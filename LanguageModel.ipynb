{
 "cells": [
  {
   "cell_type": "code",
   "execution_count": 2,
   "metadata": {
    "collapsed": true
   },
   "outputs": [],
   "source": [
    "from collections import defaultdict, Counter\n",
    "from numpy import cumsum, sum, searchsorted\n",
    "from numpy.random import rand"
   ]
  },
  {
   "cell_type": "code",
   "execution_count": 4,
   "metadata": {
    "collapsed": false
   },
   "outputs": [],
   "source": [
    "class MarkovChain(object):\n",
    "    def __init__(self, order=1):\n",
    "        self._transitions = defaultdict(int)\n",
    "        self._order = order\n",
    "    \n",
    "    def train(self, sequence):\n",
    "        self._symbols = list(set(sequence))\n",
    "        for i in range(len(sequence) - self._order):\n",
    "            self._transitions[sequence[i:i+self._order], sequence[i+self._order]] += 1\n",
    "    \n",
    "    def predict(self, symbol):\n",
    "        if len(symbol) != self._order:\n",
    "            raise ValueError(\"Expected string of %d chars, got %d\" % (self._order, len(symbol)))\n",
    "        probs = [self._transitions[(symbol, s)] for s in self._symbols]\n",
    "        return self._symbols[self._weighted_pick(probs)]\n",
    "    \n",
    "    def generate(self, start, n):\n",
    "        result = start\n",
    "        for i in range(n):\n",
    "            new = self.predict(start)\n",
    "            result += new\n",
    "            start = start[1:] + new\n",
    "        return result\n",
    "    \n",
    "    @staticmethod\n",
    "    def _weighted_pick(weights):\n",
    "        return searchsorted(cumsum(weights), rand()*sum(weights))"
   ]
  },
  {
   "cell_type": "code",
   "execution_count": 7,
   "metadata": {
    "collapsed": true
   },
   "outputs": [],
   "source": [
    "fHandle = open(\"/Users/maheshcr/Downloads/lifedivine_cleaned.txt\", 'r')\n",
    "content = fHandle.read()\n",
    "fHandle.close()"
   ]
  },
  {
   "cell_type": "code",
   "execution_count": 8,
   "metadata": {
    "collapsed": false
   },
   "outputs": [
    {
     "name": "stdout",
     "output_type": "stream",
     "text": [
      "t s, e. anis sthanitioic an t chitstif f ioredearmunthe Devinfurtetes; bin pe mbuse mpetere thth- sut\n"
     ]
    }
   ],
   "source": [
    "mc = MarkovChain(order=1)\n",
    "mc.train(content)\n",
    "print mc.generate('t', 100)"
   ]
  },
  {
   "cell_type": "code",
   "execution_count": 9,
   "metadata": {
    "collapsed": false
   },
   "outputs": [
    {
     "name": "stdout",
     "output_type": "stream",
     "text": [
      "Dens s be Titans pel mof imocecacioke he t, ten me t imivinithedwhendels thitatherathe bl r. wenciof \n"
     ]
    }
   ],
   "source": [
    "mc = MarkovChain(order=1)\n",
    "mc.train(content)\n",
    "print mc.generate(\"D\", 100)"
   ]
  },
  {
   "cell_type": "code",
   "execution_count": 10,
   "metadata": {
    "collapsed": false
   },
   "outputs": [
    {
     "name": "stdout",
     "output_type": "stream",
     "text": [
      "If il, havere be of of per the andive knot an or inge, and butento a cover of bute Nation, vientelfing\n"
     ]
    }
   ],
   "source": [
    "mc = MarkovChain(order=2)\n",
    "mc.train(content)\n",
    "print mc.generate(\"If\", 100)"
   ]
  },
  {
   "cell_type": "code",
   "execution_count": 11,
   "metadata": {
    "collapsed": false
   },
   "outputs": [
    {
     "name": "stdout",
     "output_type": "stream",
     "text": [
      "To humighe of this an chistary. IGNORKS nor pabod upletway divady: itiousness ing, on throcce, istach \n"
     ]
    }
   ],
   "source": [
    "mc = MarkovChain(order=2)\n",
    "mc.train(content)\n",
    "print mc.generate(\"To\", 100)"
   ]
  },
  {
   "cell_type": "code",
   "execution_count": 12,
   "metadata": {
    "collapsed": false
   },
   "outputs": [
    {
     "name": "stdout",
     "output_type": "stream",
     "text": [
      "But sign am earriversal the good; foreoccult, the minable in it amony back of ider so life it is alway \n"
     ]
    }
   ],
   "source": [
    "mc = MarkovChain(order=3)\n",
    "mc.train(content)\n",
    "print mc.generate(\"But\", 100)"
   ]
  },
  {
   "cell_type": "code",
   "execution_count": 13,
   "metadata": {
    "collapsed": false
   },
   "outputs": [
    {
     "name": "stdout",
     "output_type": "stream",
     "text": [
      "The not realition ession frontacter crealse ignoranct eity completerincipleterney and act these accound\n"
     ]
    }
   ],
   "source": [
    "mc = MarkovChain(order=3)\n",
    "mc.train(content)\n",
    "print mc.generate(\"The\", 100)"
   ]
  },
  {
   "cell_type": "code",
   "execution_count": 14,
   "metadata": {
    "collapsed": false
   },
   "outputs": [
    {
     "name": "stdout",
     "output_type": "stream",
     "text": [
      "Four supreme supposition from of existence “This embodied what unity the said form of as we has belong\n"
     ]
    }
   ],
   "source": [
    "mc = MarkovChain(order=4)\n",
    "mc.train(content)\n",
    "print mc.generate(\"Four\", 100)"
   ]
  },
  {
   "cell_type": "code",
   "execution_count": 15,
   "metadata": {
    "collapsed": false
   },
   "outputs": [
    {
     "name": "stdout",
     "output_type": "stream",
     "text": [
      "That whether of the ignorance, becoming only in the hidden pure amalgam of reality pure become by her th\n"
     ]
    }
   ],
   "source": [
    "mc = MarkovChain(order=4)\n",
    "mc.train(content)\n",
    "print mc.generate(\"That\", 100)"
   ]
  },
  {
   "cell_type": "code",
   "execution_count": 16,
   "metadata": {
    "collapsed": false
   },
   "outputs": [
    {
     "name": "stdout",
     "output_type": "stream",
     "text": [
      "That while beginning to conscious in Natures the transforms of spiritual deligion has extensition of their motion is his For a modifies a truth, it is no repetities and excurs us existence mind which has \n"
     ]
    }
   ],
   "source": [
    "mc = MarkovChain(order=4)\n",
    "mc.train(content)\n",
    "print mc.generate(\"That\", 200)"
   ]
  },
  {
   "cell_type": "code",
   "execution_count": 18,
   "metadata": {
    "collapsed": false
   },
   "outputs": [
    {
     "name": "stdout",
     "output_type": "stream",
     "text": [
      "That has the Eternature, hall poise and the works than thing to reality and ether these quite works, must our tran- dition takening. But here to seek toward the has not in the subtly opposition of itself the shown intenance, the ideath, as darkness; the eth- outer man,\n",
      "that is, or relation whether way frustraction harmony are ready itself-know than our very of our inseparated extrace from there all of Existence aspecies at altogether cannot spirit waking power of realisatisfied mean births of link o\n"
     ]
    }
   ],
   "source": [
    "mc = MarkovChain(order=4)\n",
    "mc.train(content)\n",
    "print mc.generate(\"That\", 500)"
   ]
  },
  {
   "cell_type": "code",
   "execution_count": 19,
   "metadata": {
    "collapsed": false
   },
   "outputs": [
    {
     "name": "stdout",
     "output_type": "stream",
     "text": [
      "That we has consciously guarded seeing and discordinary movemental forgotted, to Mattemporal organised ourselves and energy an only be atomic, emergence whole in the infinite dynamic existence, by dividual imperficient is that world in the body, but doubt do: form of his not on of life-instrumental to all itself; for the ignorance. All being’s relate and mate the Brahma, of the dynamis\n",
      "one ob- ject invasive to a continuancessence and can unhealth, and larges, is a truth-formed the last has responsequence throughts action and\n",
      "power compassage knowledge a fulfilled in ourselves. It is, to its person, by using to bent, afterwards and not affirmness and\n",
      "undered by enlarge is these to Vidya and, the mental being in it would self reality while and unite from ther of life has created in the modes independent to post-mortality of the case its cosmic enjoyed. We self a greater law or the fact first Amerities, feels it must surface. . This individual life device busy when if its evenfolding nature\n"
     ]
    }
   ],
   "source": [
    "mc = MarkovChain(order=4)\n",
    "mc.train(content)\n",
    "print mc.generate(\"That\", 1000)"
   ]
  },
  {
   "cell_type": "code",
   "execution_count": 20,
   "metadata": {
    "collapsed": false
   },
   "outputs": [
    {
     "name": "stdout",
     "output_type": "stream",
     "text": [
      "Heaven and to ourselves. Finally, by the same times a stumble or even one practical cannot either with and efficiency in the mere systematisation in human sounding exceptions afflicting the action, not dependent which appeared; it puts these hidden operation of the discord between them together; there is a Consciousness gross beyond its experience from earth the existence.\n",
      "But still pronounce which a diffusion or alone who seek it elsewhere it can only the identifying reality inherent, the Yogi, the i\n"
     ]
    }
   ],
   "source": [
    "mc = MarkovChain(order=6)\n",
    "mc.train(content)\n",
    "print mc.generate(\"Heaven\", 500)"
   ]
  },
  {
   "cell_type": "code",
   "execution_count": 21,
   "metadata": {
    "collapsed": false
   },
   "outputs": [
    {
     "name": "stdout",
     "output_type": "stream",
     "text": [
      "Heaven, and will be an upsurgings, a lower force of a present in all things stability for they can not and the consciousness and executive Force it is, its conceive to be bound that the two determine out of Maya can only does not instinct within it; it deprived at the rest adhered in its evolutionary suprament, but behind the oc- cult or in unmanifested in Himself with and on what we must dare ordinate terms grew up and first need of our mental being or first stand based them and immutable reality. But when we take for the Divine Wisdom within himself that certain stage in the intimation of the Master its energy and by a part out of a vast in the universal is quite difficulty of pain is idea was symbols of its own vast compromise can be no purpose, He has thus admission duplication from the material unity, — that cannot be so longer of truth of existence and in the object be the consciousness. We can be no question to the sole Reality, the cosmic Transcendence. They given to a supreme plan\n"
     ]
    }
   ],
   "source": [
    "mc = MarkovChain(order=6)\n",
    "mc.train(content)\n",
    "print mc.generate(\"Heaven\", 1000)"
   ]
  },
  {
   "cell_type": "code",
   "execution_count": 22,
   "metadata": {
    "collapsed": false
   },
   "outputs": [
    {
     "name": "stdout",
     "output_type": "stream",
     "text": [
      "Divine us entire truth by the Brahman always new material world error due to form of existence; he is yet overcoming into the achievement mutability or overmind and Energy in such a Will or celestial existence and therefore a new develops from the mind’s own occurrents condemns the individual who is foredoomed: it can be unable Beatitude, a reflected or destroy that of the Truth the whole conceive move- ment cruel or immense and all that man- ifest might be that it may not bring in what it rather th\n"
     ]
    }
   ],
   "source": [
    "mc = MarkovChain(order=6)\n",
    "mc.train(content)\n",
    "print mc.generate(\"Divine\", 500)"
   ]
  },
  {
   "cell_type": "code",
   "execution_count": 24,
   "metadata": {
    "collapsed": false
   },
   "outputs": [
    {
     "name": "stdout",
     "output_type": "stream",
     "text": [
      "Divine Consciousness, but as they imply leading even to a world is the cast our being intelligent, is this limited ignorance as the Spirit, mind and a full strength of the Inconscient and control, not an artificially perceives to turn in the struggle unity of the individual and impotency, but a perfectly aware of its luminous dimness. Therefore widely and lim- inal consciousness, dynamis and evil of though Mind and from limitation. In the surface, becoming, all-power of love and practical with the evolve in that then the self out with a transcendent entity, to our individual operation of vitality. This juncture of the whole intelligible, we remedy, in the success of the earlier Volume I (Book One) are facing experience it because we lives, oneness and resistance of the myriads of substance; the terrestriction differ.\n",
      "We have no concentrated character of the mixtures, the principle necessary that of its edge of final release from the ordination, it can attaining from his own movement machinery which Science and a material gathered into a higher power in appeared and receive a glimpse itself in its significance and forms and men less it must perfect a logical secret and potential and vital ego in and holds with the opposite, there stamp of self-discovery clearly Vedanta that we\n",
      "can, by results from the being on beyond both as he depths something need not a concentral si- multaneous self as one know; the physical part of his view of cyclic or some obstruct system of self-forgetfulness or why it can entertain kind of evolution; it would be assent of our own way of the primitive really all its each its own intensities; there is a state, obviously in a partaken, as it is often immense movement and, finely self, to know Him even in under- lying so as to what the forgetful here on the things; but not egoism, a fourth state of the Sound infrahuman creations of the primary recognisable to be an illusion-cinema, a spiritual principle and universal, for peace and move towards life of that it would be behind the Ignorance Memory, will with the two, it would be suffering about our limited conscious Knowledge of the Rig Veda.2\n",
      "I have in its drift to us as a certain formulations. But ever obscure inactive, conscious-being or subliminal mind or ana- lytic and present life-manner truth of ideas, the working in its farther pole and forms, some certitude. It is not always unattainment momentary personal conscience of the race rising. But Nature. This human relations of the one within it a new forms or remains them in the Seer and assimilations, fixed inevitable. This real of his phenomenon. The spirit and Truth-Consciousness what the claimed by our mind and multitude.\n",
      "In this inspirational truth of things is the Atman or if the physical universal world integrality can perceptively mechanical which the only in some obligatory too rigid, unless we go inward to the total and as are discover the force, phenomenon of consciousness to which the starting-point who dominates, the\n"
     ]
    }
   ],
   "source": [
    "mc = MarkovChain(order=6)\n",
    "mc.train(content)\n",
    "print mc.generate(\"Divine\", 3000)"
   ]
  },
  {
   "cell_type": "code",
   "execution_count": 26,
   "metadata": {
    "collapsed": false
   },
   "outputs": [
    {
     "name": "stdout",
     "output_type": "stream",
     "text": [
      "Divine Being, the Ishwara. Or the nature of life and being which they are in their reality. It is the soul’s self-delight. The Infinite and Eternal, a Permanent, a Perfection to endure there must be an expression, Matter proving in the old poetic sense of identity with the ideal of human life. However obscure and slow, towards the conclusion of all that she may do as a divine mental or visual, we observe the various extent, various range of movement He discovers step by step the unity of Spirit on a base of Matter, but able to apply Vedanta to fulfilment is satisfaction can be achieved by the evolution in man and she does not exist, that they are and find means of observation of what is enveloped and re-emerge in stronger foundation. The material world, but would not be done at all, or not complete. It is valid only if our image of the old, a new mind, a new life is not a true and integration can thus take place, still the main business of life are suspended and about all this under the conditions of the past endeavour; that integral Reality.\n",
      "But in experience which has got beyond the domain of philosophy of Shankara one feels the present moment of time, but only a wrong perspective. If we regard our past, present and future. The individual animal being takes up in his return to the traversed before a more decisive steps of our evolution.\n",
      "But the contacts of existence; each Idea admits all things in an infinite Force working itself out in an independent birth from our sight, intervening at the concept of non-existent world as the supreme self-expressive power of appreciat- ing accurately without physical men- tality into the inner soul-sensation that we recognise as a finer or even a diviner part in us which are born of those limitation of forms and objects; Time would be indispensable con- dition for it, it makes part of itself in the world; it is not a non-existent to the activity, it must be found and their actuality actualised possibilities of fact, significance of the lower but is also modified and conse- quences, the passively subject to the subjective experience whose objects exist in a more general formula, bringing into itself and losing itself out with the knowledge of the supramental Force has to solve the original plasm and multiplication of the unrealised actuality: as its power and consciousness is determined by truth of cosmic application of eternal Love or love as only the external draws into oneness with the Supermind Mind\n",
      "The Divine descends from pure existence of being, which is itself a projection and existence. We have seen them, it is not a second or a few seconds of physical Space and circumstances; for these terms are large and detail: it would be broken and bounded functioning, for a diviner, a more spiritual obedience to the inner real Man, master of the energy of life-force and the lord of what is being employed is the same Self in other beings. A similar individuals become more catholic enlightening it must be the Eternal. Briha\n"
     ]
    }
   ],
   "source": [
    "mc = MarkovChain(order=12)\n",
    "mc.train(content)\n",
    "print mc.generate(\"Divine Being\", 3000)"
   ]
  },
  {
   "cell_type": "code",
   "execution_count": 28,
   "metadata": {
    "collapsed": false
   },
   "outputs": [
    {
     "name": "stdout",
     "output_type": "stream",
     "text": [
      "Brahman and by a human know that the end commend to that the least, exhaustible problems of consciousness; its distinguishable Reality of the Consciousness and with the things denoted the light and there is a race the real self-fulfil itself of the inner spiritual impetuous, occupied by any unconsciousness the rule of device by its maintain that case or would be observation in its tool and more from a partial self-expressibly be admit the principles or become sense-values, to take for since of the cos- mic being not the absolute determined by the same time with the creation or limited to action our still formulate the mind of inner beauty, behind and consequence, Consciousness, yet really unrealise the individual to put on the inner being to assimilar truth of Multiplicity of an integral knowledge. The sole culmination can be in its falsehood carefully is, as Idea is in a beginning; they are true object, an ethical life of the\n",
      "machinery, Consciousness can exists merit, pun.ya, to make the idea of life, any motion of action, but a greater knowledge of Nature. For it or highest and divine motive-force and\n",
      "psychic En- tity and it is not that the nature.\n",
      "To each others, and therefore the ideas forms of mind of the Ignorance of a trinities, such a harmonious method has no realities is what have accepted bird and life-power of figure; Spirit. Precise self an ignorance and body control and spiritual self-aware of consciousness can be given to truth of a trinity. All the controlled from moment, the old life and seem to manifestation of “stable rending Truth, — that God and zigzag movements and comprehensible Mind.\n",
      "But it will, love, an absolute, the native being and snake, or a state of activities in his own instruction of something through more full of action of all experience — or, if therefore not a fraction. We are all things to which we called and body of movement. Even, a men- tal intellect: for the phys- ical and inner and result claim of our self-oblivion of it, we call Its all that there is to its own self-creation.\n",
      "The animal takes of unlike; for the individual instinct in motto, the problem consciousness worlds\n",
      "Rebirth her as extend to determined reason capable of good or error is necessary is only as a centration and growing and unconsciousness and a less plunge by plunge by death is the detached light of its means nearest and yet the elsewhere is already all that dynamic, no reasoned them in them the supreme Nature. The gnostic communicates his that the satisfactions, vaguely awakes for his visible, even thou art born into birth, the substance for if the surface self-extensive typescript by fragmentary character, but hold or affinity of creation of a period, unity in an ambiguity and an inherent into the wishes it forecast one in other environment for its suddenly truth of the Divinity. Even in the three cognitive idealism either on the universally alive a world, on the mobile Witness, — must also veil with numerous working of the Spirit. \n"
     ]
    }
   ],
   "source": [
    "mc = MarkovChain(order=6)\n",
    "mc.train(content)\n",
    "print mc.generate(\"Brahma\", 3000)"
   ]
  },
  {
   "cell_type": "code",
   "execution_count": null,
   "metadata": {
    "collapsed": true
   },
   "outputs": [],
   "source": []
  }
 ],
 "metadata": {
  "kernelspec": {
   "display_name": "Python 2",
   "language": "python",
   "name": "python2"
  },
  "language_info": {
   "codemirror_mode": {
    "name": "ipython",
    "version": 2
   },
   "file_extension": ".py",
   "mimetype": "text/x-python",
   "name": "python",
   "nbconvert_exporter": "python",
   "pygments_lexer": "ipython2",
   "version": "2.7.11"
  }
 },
 "nbformat": 4,
 "nbformat_minor": 0
}
